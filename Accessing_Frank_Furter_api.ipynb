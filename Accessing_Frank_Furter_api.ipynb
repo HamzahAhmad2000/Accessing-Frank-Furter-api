{
  "nbformat": 4,
  "nbformat_minor": 0,
  "metadata": {
    "colab": {
      "provenance": []
    },
    "kernelspec": {
      "name": "python3",
      "display_name": "Python 3"
    },
    "language_info": {
      "name": "python"
    }
  },
  "cells": [
    {
      "cell_type": "code",
      "execution_count": null,
      "metadata": {
        "id": "6O6YHyxn_8aG"
      },
      "outputs": [],
      "source": [
        "import sys\n",
        "import requests\n",
        "date=sys.argv[1]\n",
        "conver1=sys.argv[2]\n",
        "conver2=sys.argv[3]\n",
        "link=\"https://api.frankfurter.app/{}?from={}&to={}\".format(date,conver1,conver2)\n",
        "mode=requests.get(link).json()\n",
        "\n",
        "print(mode)"
      ]
    }
  ]
}